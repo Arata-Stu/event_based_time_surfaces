{
 "cells": [
  {
   "cell_type": "code",
   "execution_count": null,
   "metadata": {},
   "outputs": [],
   "source": [
    "import argparse\n",
    "import os\n",
    "import glob\n",
    "from random import shuffle\n",
    "import numpy as np\n",
    "from matplotlib import cm\n",
    "from matplotlib import pyplot as plt\n",
    "from sklearn.metrics import confusion_matrix\n",
    "\n",
    "from lib.NmnistClass import NmnistDataset\n",
    "from lib.feature import remove_isolated_pixels\n",
    "from lib.layer import initialise_time_surface_prototypes\n"
   ]
  },
  {
   "cell_type": "code",
   "execution_count": null,
   "metadata": {},
   "outputs": [],
   "source": [
    "N_1 = 4\n",
    "tau_1 = 20000.\n",
    "r_1 = 2\n",
    "\n",
    "K_N = 2\n",
    "K_tau = 2\n",
    "K_r = 2\n",
    "\n",
    "N_2 = N_1 * K_N\n",
    "tau_2 = tau_1 * K_tau\n",
    "r_2 = r_1 * K_r\n",
    "\n",
    "N_3 = N_2 * K_N\n",
    "tau_3 = tau_2 * K_tau\n",
    "r_3 = r_2 * K_r\n"
   ]
  },
  {
   "cell_type": "code",
   "execution_count": null,
   "metadata": {},
   "outputs": [],
   "source": [
    "input_folders_training = [\n",
    "    'datasets/mnist/Train/0',\n",
    "    'datasets/mnist/Train/1',\n",
    "    'datasets/mnist/Train/2',\n",
    "    'datasets/mnist/Train/3',\n",
    "    'datasets/mnist/Train/4',\n",
    "    'datasets/mnist/Train/5',\n",
    "    'datasets/mnist/Train/6',\n",
    "    'datasets/mnist/Train/7',\n",
    "    'datasets/mnist/Train/8',\n",
    "    'datasets/mnist/Train/9']\n",
    "\n",
    "num_files_per_folder = 4\n",
    "\n",
    "input_files_all = []\n",
    "\n",
    "for folder in input_folders_training:\n",
    "    input_files = glob.glob(os.path.join(folder, '*.bin'))[:num_files_per_folder]\n",
    "    input_files_all.extend(input_files)\n",
    "    print('Num files from {}: {}'.format(folder, len(input_files)))\n"
   ]
  },
  {
   "cell_type": "code",
   "execution_count": null,
   "metadata": {},
   "outputs": [],
   "source": [
    "shuffle(input_files_all)\n",
    "\n",
    "ev = NmnistDataset.read_dataset(input_files_all[0])\n",
    "\n",
    "# filter out outliers\n",
    "\n",
    "event_data = []\n",
    "event_data_filt = []\n",
    "\n",
    "for f in input_files_all:\n",
    "    ev_data = NmnistDataset.read_dataset(f).data\n",
    "    ev_data_filt = remove_isolated_pixels(ev_data, eps=3, min_samples=20)[0]\n",
    "\n",
    "    if len(event_data) > 0:\n",
    "        ts_start_0 = event_data[-1].ts\n",
    "\n",
    "        for i in range(len(ev_data)):\n",
    "            ev_data[i].ts += ts_start_0\n",
    "\n",
    "    if len(event_data_filt) > 0:\n",
    "        ts_start_1 = event_data_filt[-1].ts\n",
    "\n",
    "        for i in range(len(ev_data_filt)):\n",
    "            ev_data_filt[i].ts += ts_start_1\n",
    "\n",
    "    event_data.extend(ev_data)\n",
    "    event_data_filt.extend(ev_data_filt)\n",
    "\n",
    "    print('length event stream:', len(ev_data), len(ev_data_filt))\n"
   ]
  },
  {
   "cell_type": "code",
   "execution_count": null,
   "metadata": {},
   "outputs": [],
   "source": [
    "C_1 = initialise_time_surface_prototypes(N_1, tau_1, r_1, ev.width, ev.height, event_data_filt, plot=True)"
   ]
  },
  {
   "cell_type": "code",
   "execution_count": null,
   "metadata": {},
   "outputs": [],
   "source": [
    "train_layer(C_1, N_1, tau_1, r_1, ev.width, ev.height, event_data_filt, num_polarities=2, layer_number=1, plot=True)"
   ]
  },
  {
   "cell_type": "code",
   "execution_count": null,
   "metadata": {},
   "outputs": [],
   "source": []
  },
  {
   "cell_type": "code",
   "execution_count": null,
   "metadata": {},
   "outputs": [],
   "source": []
  }
 ],
 "metadata": {
  "kernelspec": {
   "display_name": "hots",
   "language": "python",
   "name": "python3"
  },
  "language_info": {
   "codemirror_mode": {
    "name": "ipython",
    "version": 3
   },
   "file_extension": ".py",
   "mimetype": "text/x-python",
   "name": "python",
   "nbconvert_exporter": "python",
   "pygments_lexer": "ipython3",
   "version": "3.12.3"
  }
 },
 "nbformat": 4,
 "nbformat_minor": 2
}
