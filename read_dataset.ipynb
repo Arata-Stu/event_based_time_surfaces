{
 "cells": [
  {
   "cell_type": "markdown",
   "metadata": {},
   "source": [
    "# Read MNIST dataset\n",
    "\n",
    "Dataset downloaded from *https://www.garrickorchard.com/datasets/n-mnist*\n",
    "\n",
    "event-Python repo downloaded from github: *https://github.com/gorchard/event-Python*"
   ]
  },
  {
   "cell_type": "code",
   "execution_count": 1,
   "metadata": {},
   "outputs": [
    {
     "name": "stdout",
     "output_type": "stream",
     "text": [
      "Event-based vision module imported\n"
     ]
    }
   ],
   "source": [
    "import sys\n",
    "from matplotlib import pyplot as plt\n",
    "import numpy as np\n",
    "\n",
    "sys.path.append('event-Python')\n",
    "\n",
    "import eventvision"
   ]
  },
  {
   "cell_type": "code",
   "execution_count": 2,
   "metadata": {},
   "outputs": [],
   "source": [
    "ev = eventvision.read_dataset(r'datasets\\mnist\\Test\\0\\00004.bin')"
   ]
  },
  {
   "cell_type": "code",
   "execution_count": 6,
   "metadata": {},
   "outputs": [],
   "source": [
    "ev.show_td(100)"
   ]
  },
  {
   "cell_type": "code",
   "execution_count": 7,
   "metadata": {},
   "outputs": [
    {
     "data": {
      "text/plain": [
       "rec.array([(18, 11, False,    581), (21, 13, False,   1703),\n",
       "           (12, 24, False,   2625), ..., (21, 19,  True, 307025),\n",
       "           (32, 10,  True, 307397), (10, 19,  True, 308529)],\n",
       "          dtype=[('x', '<u2'), ('y', '<u2'), ('p', '?'), ('ts', '<u8')])"
      ]
     },
     "execution_count": 7,
     "metadata": {},
     "output_type": "execute_result"
    }
   ],
   "source": [
    "ev.data"
   ]
  },
  {
   "cell_type": "code",
   "execution_count": 6,
   "metadata": {},
   "outputs": [
    {
     "data": {
      "text/plain": [
       "[<matplotlib.lines.Line2D at 0x755b710>]"
      ]
     },
     "execution_count": 6,
     "metadata": {},
     "output_type": "execute_result"
    },
    {
     "data": {
      "image/png": "[encoded data removed]",
      "text/plain": [
       "<Figure size 432x288 with 1 Axes>"
      ]
     },
     "metadata": {
      "needs_background": "light"
     },
     "output_type": "display_data"
    }
   ],
   "source": [
    "plt.plot([v.ts for v in ev.data])"
   ]
  },
  {
   "cell_type": "code",
   "execution_count": 8,
   "metadata": {},
   "outputs": [
    {
     "name": "stdout",
     "output_type": "stream",
     "text": [
      "False\n",
      "False\n",
      "False\n",
      "False\n",
      "True\n",
      "False\n",
      "True\n",
      "True\n",
      "False\n",
      "False\n",
      "True\n",
      "False\n",
      "True\n",
      "False\n",
      "False\n",
      "False\n",
      "False\n",
      "False\n",
      "False\n",
      "True\n",
      "False\n",
      "True\n",
      "False\n",
      "True\n",
      "False\n",
      "False\n",
      "False\n",
      "False\n",
      "True\n",
      "True\n",
      "False\n",
      "False\n",
      "False\n",
      "False\n",
      "False\n",
      "False\n",
      "True\n",
      "False\n",
      "False\n",
      "False\n",
      "False\n",
      "False\n",
      "True\n",
      "True\n",
      "False\n",
      "False\n",
      "False\n",
      "False\n",
      "True\n",
      "True\n",
      "False\n",
      "False\n",
      "True\n",
      "False\n",
      "False\n",
      "True\n",
      "True\n",
      "False\n",
      "False\n",
      "True\n",
      "False\n",
      "False\n",
      "False\n",
      "False\n",
      "True\n",
      "False\n",
      "False\n",
      "True\n",
      "False\n",
      "True\n",
      "False\n",
      "False\n",
      "True\n",
      "True\n",
      "True\n",
      "True\n",
      "True\n",
      "False\n",
      "False\n",
      "True\n",
      "True\n",
      "True\n",
      "True\n",
      "False\n",
      "False\n",
      "False\n",
      "True\n",
      "False\n",
      "True\n",
      "True\n",
      "True\n",
      "False\n",
      "True\n",
      "False\n",
      "False\n",
      "True\n",
      "False\n",
      "False\n",
      "False\n",
      "False\n"
     ]
    }
   ],
   "source": [
    "# plt.plot([v.p * 1 for v in ev.data])\n",
    "for i in range(100):\n",
    "    print ev.data[i].p"
   ]
  },
  {
   "cell_type": "code",
   "execution_count": 9,
   "metadata": {},
   "outputs": [
    {
     "data": {
      "text/plain": [
       "2704"
      ]
     },
     "execution_count": 9,
     "metadata": {},
     "output_type": "execute_result"
    }
   ],
   "source": [
    "len([1 for v in ev.data if not v.p])"
   ]
  },
  {
   "cell_type": "markdown",
   "metadata": {},
   "source": [
    "## Plot time context $\\mathcal{T}_i(\\mathbf{u},p)$ and time surface $\\mathcal{S}_i(\\mathbf{u},p)$\n",
    "\n",
    "The time context is a 3D (2 spatial axes and 1 time) surface that indicates the most recent activations/events for each pixel at a given moment in time $i$ , within a small spatial region $\\mathbf{u}$:\n",
    "\n",
    "$$\\mathcal{T}_i(\\mathbf{u},p) = max_{j <= i}\\{t_j | \\mathbf{x}_j = (\\mathbf{x}_i + \\mathbf{u}), p_j = p\\}$$\n",
    "\n",
    "Note that we choose to either plot ON ($p_j = 1$) or OFF ($p_j = -1$) events, not both at the same time, just to aid visualisation.\n",
    "\n",
    "This time-context operation is essentially a form of spatio-temporal max-pooling.\n",
    "\n",
    "\n",
    "The time surface is the time context with an exponential decay applied:\n",
    "\n",
    "$$\\mathcal{S}_i(\\mathbf{u},p) = e^{-(t_i - \\mathcal{T}_i(\\mathbf{u},p) )/\\tau} $$\n"
   ]
  },
  {
   "cell_type": "code",
   "execution_count": 47,
   "metadata": {},
   "outputs": [],
   "source": [
    "class Feature(object):\n",
    "    def __init__(self, height, width, region_size, time_constant):\n",
    "        self.height = height\n",
    "        self.width = width\n",
    "\n",
    "        self.latest_times_on = np.zeros((self.height, self.width))\n",
    "        self.latest_times_off = np.zeros_like(self.latest_times_on)\n",
    "\n",
    "        self.time_context_on = np.zeros_like(self.latest_times_on)\n",
    "        self.time_context_off = np.zeros_like(self.latest_times_on)\n",
    "\n",
    "        self.time_surface_on = np.zeros_like(self.latest_times_on)\n",
    "        self.time_surface_off = np.zeros_like(self.latest_times_on)\n",
    "\n",
    "        self.r = region_size\n",
    "        self.time_constant = time_constant\n",
    "\n",
    "    def _update_latest_times(self, event):\n",
    "        \"\"\" create grid showing latest times at each spatial coordinate \"\"\"\n",
    "\n",
    "        if event.p:\n",
    "            self.latest_times_on[event.y, event.x] = event.ts\n",
    "        else:\n",
    "            self.latest_times_off[event.y, event.x] = event.ts\n",
    "\n",
    "    def _update_time_context(self, event_on):\n",
    "        \"\"\" create time context from grid of latest times \"\"\"\n",
    "\n",
    "        for x in range(self.width):\n",
    "            for y in range(self.height):\n",
    "                if self.r <= x and self.r <= y:\n",
    "                    if event_on:\n",
    "                        self.time_context_on[y, x] = \\\n",
    "                            np.max(self.latest_times_on[y - self.r:y + self.r, x - self.r:x + self.r])\n",
    "                    else:\n",
    "                        self.time_context_off[y, x] = \\\n",
    "                            np.max(self.latest_times_off[y - self.r:y + self.r, x - self.r:x + self.r])\n",
    "\n",
    "    def _update_time_surface(self, event_on, current_time):\n",
    "        \"\"\" create time surface from time context \"\"\"\n",
    "\n",
    "        if event_on:\n",
    "            self.time_surface_on = np.exp(-(current_time - self.time_context_on) / self.time_constant)\n",
    "        else:\n",
    "            self.time_surface_off = np.exp(-(current_time - self.time_context_off) / self.time_constant)\n",
    "\n",
    "    def process_event(self, event):\n",
    "        \"\"\" update the latest times grid, time context and time surface uon receiving a new event \"\"\"\n",
    "\n",
    "        self._update_latest_times(event)\n",
    "        self._update_time_context(event.p)\n",
    "        self._update_time_surface(event.p, event.ts)"
   ]
  },
  {
   "cell_type": "code",
   "execution_count": 52,
   "metadata": {},
   "outputs": [
    {
     "data": {
      "text/plain": [
       "(34L, 34L)"
      ]
     },
     "execution_count": 52,
     "metadata": {},
     "output_type": "execute_result"
    }
   ],
   "source": [
    "feat.time_surface_on.shape"
   ]
  },
  {
   "cell_type": "code",
   "execution_count": 48,
   "metadata": {},
   "outputs": [
    {
     "name": "stdout",
     "output_type": "stream",
     "text": [
      "1 loop, best of 3: 39.6 s per loop\n"
     ]
    },
    {
     "data": {
      "image/png": "[encoded data removed]",
      "text/plain": [
       "<Figure size 720x360 with 3 Axes>"
      ]
     },
     "metadata": {
      "needs_background": "light"
     },
     "output_type": "display_data"
    },
    {
     "data": {
      "image/png": "[encoded data removed]",
      "text/plain": [
       "<Figure size 720x360 with 3 Axes>"
      ]
     },
     "metadata": {
      "needs_background": "light"
     },
     "output_type": "display_data"
    },
    {
     "data": {
      "image/png": "[encoded data removed]",
      "text/plain": [
       "<Figure size 720x360 with 3 Axes>"
      ]
     },
     "metadata": {
      "needs_background": "light"
     },
     "output_type": "display_data"
    },
    {
     "data": {
      "image/png": "[encoded data removed]",
      "text/plain": [
       "<Figure size 720x360 with 3 Axes>"
      ]
     },
     "metadata": {
      "needs_background": "light"
     },
     "output_type": "display_data"
    }
   ],
   "source": [
    "%%timeit\n",
    "\n",
    "# plot time context\n",
    "\n",
    "feat = Feature(ev.height, ev.width, region_size=1, time_constant=10000*2)\n",
    "\n",
    "# set time to pause at\n",
    "t_pause = 170000\n",
    "\n",
    "for e in ev.data:\n",
    "    if e.ts <= t_pause:\n",
    "        feat.process_event(e)\n",
    "            \n",
    "fig, ax = plt.subplots(1, 3, figsize=(10, 5))\n",
    "ax[0].imshow(feat.latest_times_on)\n",
    "ax[1].imshow(feat.time_context_on)\n",
    "ax[2].imshow(feat.time_surface_on)\n",
    "ax[0].set_title('Latest times')\n",
    "ax[1].set_title('Time context')\n",
    "ax[2].set_title('Time surface')"
   ]
  },
  {
   "cell_type": "markdown",
   "metadata": {},
   "source": [
    "## Initialise time surface prototypes"
   ]
  },
  {
   "cell_type": "code",
   "execution_count": null,
   "metadata": {},
   "outputs": [],
   "source": [
    "# Choose number of prototypes for layer 1\n",
    "N_1 = 10\n",
    "\n",
    "# initialis each of the time surface prototypes\n",
    "\n",
    "for i in range(N_1):\n",
    "    "
   ]
  }
 ],
 "metadata": {
  "kernelspec": {
   "display_name": "Python 2",
   "language": "python",
   "name": "python2"
  },
  "language_info": {
   "codemirror_mode": {
    "name": "ipython",
    "version": 2
   },
   "file_extension": ".py",
   "mimetype": "text/x-python",
   "name": "python",
   "nbconvert_exporter": "python",
   "pygments_lexer": "ipython2",
   "version": "2.7.15"
  }
 },
 "nbformat": 4,
 "nbformat_minor": 2
}
