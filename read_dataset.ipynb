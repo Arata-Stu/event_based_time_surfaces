{
 "cells": [
  {
   "cell_type": "markdown",
   "metadata": {},
   "source": [
    "# Read MNIST dataset\n",
    "\n",
    "Dataset downloaded from *https://www.garrickorchard.com/datasets/n-mnist*\n",
    "\n",
    "event-Python repo downloaded from github: *https://github.com/gorchard/event-Python*"
   ]
  },
  {
   "cell_type": "code",
   "execution_count": 1,
   "metadata": {},
   "outputs": [
    {
     "name": "stdout",
     "output_type": "stream",
     "text": [
      "Event-based vision module imported\n"
     ]
    }
   ],
   "source": [
    "import sys\n",
    "from matplotlib import pyplot as plt\n",
    "import numpy as np\n",
    "\n",
    "sys.path.append('event-Python')\n",
    "\n",
    "import eventvision"
   ]
  },
  {
   "cell_type": "code",
   "execution_count": 3,
   "metadata": {},
   "outputs": [],
   "source": [
    "ev = eventvision.read_dataset(r'datasets\\mnist\\Test\\0\\00004.bin')"
   ]
  },
  {
   "cell_type": "code",
   "execution_count": 50,
   "metadata": {},
   "outputs": [],
   "source": [
    "ev.show_td(100)"
   ]
  },
  {
   "cell_type": "code",
   "execution_count": 33,
   "metadata": {},
   "outputs": [
    {
     "data": {
      "text/plain": [
       "rec.array([(18, 11, False,    581), (21, 13, False,   1703),\n",
       "           (12, 24, False,   2625), ..., (21, 19,  True, 307025),\n",
       "           (32, 10,  True, 307397), (10, 19,  True, 308529)],\n",
       "          dtype=[('x', '<u2'), ('y', '<u2'), ('p', '?'), ('ts', '<u8')])"
      ]
     },
     "execution_count": 33,
     "metadata": {},
     "output_type": "execute_result"
    }
   ],
   "source": [
    "ev.data"
   ]
  },
  {
   "cell_type": "code",
   "execution_count": 6,
   "metadata": {},
   "outputs": [
    {
     "data": {
      "text/plain": [
       "[<matplotlib.lines.Line2D at 0x755b710>]"
      ]
     },
     "execution_count": 6,
     "metadata": {},
     "output_type": "execute_result"
    },
    {
     "data": {
      "image/png": "[encoded data removed]",
      "text/plain": [
       "<Figure size 432x288 with 1 Axes>"
      ]
     },
     "metadata": {
      "needs_background": "light"
     },
     "output_type": "display_data"
    }
   ],
   "source": [
    "plt.plot([v.ts for v in ev.data])"
   ]
  },
  {
   "cell_type": "code",
   "execution_count": 40,
   "metadata": {},
   "outputs": [
    {
     "name": "stdout",
     "output_type": "stream",
     "text": [
      "False\n",
      "False\n",
      "False\n",
      "False\n",
      "True\n",
      "False\n",
      "True\n",
      "True\n",
      "False\n",
      "False\n",
      "True\n",
      "False\n",
      "True\n",
      "False\n",
      "False\n",
      "False\n",
      "False\n",
      "False\n",
      "False\n",
      "True\n",
      "False\n",
      "True\n",
      "False\n",
      "True\n",
      "False\n",
      "False\n",
      "False\n",
      "False\n",
      "True\n",
      "True\n",
      "False\n",
      "False\n",
      "False\n",
      "False\n",
      "False\n",
      "False\n",
      "True\n",
      "False\n",
      "False\n",
      "False\n",
      "False\n",
      "False\n",
      "True\n",
      "True\n",
      "False\n",
      "False\n",
      "False\n",
      "False\n",
      "True\n",
      "True\n",
      "False\n",
      "False\n",
      "True\n",
      "False\n",
      "False\n",
      "True\n",
      "True\n",
      "False\n",
      "False\n",
      "True\n",
      "False\n",
      "False\n",
      "False\n",
      "False\n",
      "True\n",
      "False\n",
      "False\n",
      "True\n",
      "False\n",
      "True\n",
      "False\n",
      "False\n",
      "True\n",
      "True\n",
      "True\n",
      "True\n",
      "True\n",
      "False\n",
      "False\n",
      "True\n",
      "True\n",
      "True\n",
      "True\n",
      "False\n",
      "False\n",
      "False\n",
      "True\n",
      "False\n",
      "True\n",
      "True\n",
      "True\n",
      "False\n",
      "True\n",
      "False\n",
      "False\n",
      "True\n",
      "False\n",
      "False\n",
      "False\n",
      "False\n"
     ]
    }
   ],
   "source": [
    "# plt.plot([v.p * 1 for v in ev.data])\n",
    "for i in range(100):\n",
    "    print ev.data[i].p"
   ]
  },
  {
   "cell_type": "code",
   "execution_count": 42,
   "metadata": {},
   "outputs": [
    {
     "data": {
      "text/plain": [
       "2704"
      ]
     },
     "execution_count": 42,
     "metadata": {},
     "output_type": "execute_result"
    }
   ],
   "source": [
    "len([1 for v in ev.data if not v.p])"
   ]
  },
  {
   "cell_type": "markdown",
   "metadata": {},
   "source": [
    "## Plot time context $\\mathcal{T}_i(\\mathbf{u},p)$ and time surface $\\mathcal{S}_i(\\mathbf{u},p)$\n",
    "\n",
    "The time context is a 3D (2 spatial axes and 1 time) surface that indicates the most recent activations/events for each pixel at a given moment in time $i$ , within a small spatial region $\\mathbf{u}$:\n",
    "\n",
    "$$\\mathcal{T}_i(\\mathbf{u},p) = max_{j <= i}\\{t_j | \\mathbf{x}_j = (\\mathbf{x}_i + \\mathbf{u}), p_j = p\\}$$\n",
    "\n",
    "Note that we choose to either plot ON ($p_j = 1$) or OFF ($p_j = -1$) events, not both at the same time, just to aid visualisation.\n",
    "\n",
    "This time-context operation is essentially a form of spatio-temporal max-pooling.\n",
    "\n",
    "\n",
    "The time surface is the time context with an exponential decay applied:\n",
    "\n",
    "$$\\mathcal{S}_i(\\mathbf{u},p) = e^{-(t_i - \\mathcal{T}_i(\\mathbf{u},p) )/\\tau} $$\n"
   ]
  },
  {
   "cell_type": "code",
   "execution_count": 49,
   "metadata": {},
   "outputs": [
    {
     "data": {
      "text/plain": [
       "Text(0.5,1,'Time surface')"
      ]
     },
     "execution_count": 49,
     "metadata": {},
     "output_type": "execute_result"
    },
    {
     "data": {
      "image/png": "[encoded data removed]",
      "text/plain": [
       "<Figure size 720x360 with 3 Axes>"
      ]
     },
     "metadata": {
      "needs_background": "light"
     },
     "output_type": "display_data"
    }
   ],
   "source": [
    "# plot time context\n",
    "\n",
    "# set current time\n",
    "i = 100000\n",
    "\n",
    "im_latest_times = np.zeros((ev.height, ev.width))\n",
    "\n",
    "for e in ev.data:\n",
    "    if e.ts <= i:\n",
    "        if e.p:\n",
    "            im_latest_times[e.y, e.x] = e.ts\n",
    "    else:\n",
    "        break\n",
    "\n",
    "# generate time context\n",
    "\n",
    "R = 1\n",
    "im_time_context = np.zeros((ev.height, ev.width))\n",
    "\n",
    "for x in range(ev.width):\n",
    "    for y in range(ev.height):\n",
    "        if R <= x <= ev.width and R <= y <= ev.width:\n",
    "            im_time_context[y, x] = np.max(im_latest_times[y-R:y+R, x-R:x+R])\n",
    "            \n",
    "# create time surface from time context\n",
    "\n",
    "tau = 10000*2\n",
    "\n",
    "im_time_surface = np.exp(-(i - im_time_context)/tau)\n",
    "            \n",
    "fig, ax = plt.subplots(1, 3, figsize=(10, 5))\n",
    "ax[0].imshow(im_latest_times)\n",
    "ax[1].imshow(im_time_context)\n",
    "ax[2].imshow(im_time_surface)\n",
    "ax[0].set_title('Latest times')\n",
    "ax[1].set_title('Time context')\n",
    "ax[2].set_title('Time surface')"
   ]
  },
  {
   "cell_type": "markdown",
   "metadata": {},
   "source": []
  },
  {
   "cell_type": "code",
   "execution_count": null,
   "metadata": {},
   "outputs": [],
   "source": []
  }
 ],
 "metadata": {
  "kernelspec": {
   "display_name": "Python 2",
   "language": "python",
   "name": "python2"
  },
  "language_info": {
   "codemirror_mode": {
    "name": "ipython",
    "version": 2
   },
   "file_extension": ".py",
   "mimetype": "text/x-python",
   "name": "python",
   "nbconvert_exporter": "python",
   "pygments_lexer": "ipython2",
   "version": "2.7.15"
  }
 },
 "nbformat": 4,
 "nbformat_minor": 2
}
