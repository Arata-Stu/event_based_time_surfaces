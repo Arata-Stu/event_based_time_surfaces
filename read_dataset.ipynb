{
 "cells": [
  {
   "cell_type": "markdown",
   "metadata": {},
   "source": [
    "# Read MNIST dataset\n",
    "\n",
    "Dataset downloaded from *https://www.garrickorchard.com/datasets/n-mnist*\n",
    "\n",
    "event-Python repo downloaded from github: *https://github.com/gorchard/event-Python*"
   ]
  },
  {
   "cell_type": "code",
   "execution_count": 1,
   "metadata": {},
   "outputs": [
    {
     "name": "stdout",
     "output_type": "stream",
     "text": [
      "Event-based vision module imported\n"
     ]
    }
   ],
   "source": [
    "import sys\n",
    "from matplotlib import pyplot as plt\n",
    "import numpy as np\n",
    "\n",
    "sys.path.append('event-Python')\n",
    "\n",
    "import eventvision\n",
    "from spatio_temporal_feature import Feature"
   ]
  },
  {
   "cell_type": "code",
   "execution_count": 2,
   "metadata": {},
   "outputs": [],
   "source": [
    "ev = eventvision.read_dataset(r'datasets\\mnist\\Test\\0\\00004.bin')"
   ]
  },
  {
   "cell_type": "code",
   "execution_count": 3,
   "metadata": {},
   "outputs": [],
   "source": [
    "ev.show_td(100)"
   ]
  },
  {
   "cell_type": "code",
   "execution_count": 4,
   "metadata": {},
   "outputs": [
    {
     "data": {
      "text/plain": [
       "rec.array([(18, 11, False,    581), (21, 13, False,   1703),\n",
       "           (12, 24, False,   2625), ..., (21, 19,  True, 307025),\n",
       "           (32, 10,  True, 307397), (10, 19,  True, 308529)],\n",
       "          dtype=[('x', '<u2'), ('y', '<u2'), ('p', '?'), ('ts', '<u8')])"
      ]
     },
     "execution_count": 4,
     "metadata": {},
     "output_type": "execute_result"
    }
   ],
   "source": [
    "ev.data"
   ]
  },
  {
   "cell_type": "code",
   "execution_count": 5,
   "metadata": {},
   "outputs": [
    {
     "data": {
      "text/plain": [
       "[<matplotlib.lines.Line2D at 0x7512be0>]"
      ]
     },
     "execution_count": 5,
     "metadata": {},
     "output_type": "execute_result"
    },
    {
     "data": {
      "image/png": "[encoded data removed]",
      "text/plain": [
       "<Figure size 432x288 with 1 Axes>"
      ]
     },
     "metadata": {
      "needs_background": "light"
     },
     "output_type": "display_data"
    }
   ],
   "source": [
    "plt.plot([v.ts for v in ev.data])"
   ]
  },
  {
   "cell_type": "code",
   "execution_count": 8,
   "metadata": {},
   "outputs": [
    {
     "name": "stdout",
     "output_type": "stream",
     "text": [
      "False\n",
      "False\n",
      "False\n",
      "False\n",
      "True\n",
      "False\n",
      "True\n",
      "True\n",
      "False\n",
      "False\n",
      "True\n",
      "False\n",
      "True\n",
      "False\n",
      "False\n",
      "False\n",
      "False\n",
      "False\n",
      "False\n",
      "True\n",
      "False\n",
      "True\n",
      "False\n",
      "True\n",
      "False\n",
      "False\n",
      "False\n",
      "False\n",
      "True\n",
      "True\n",
      "False\n",
      "False\n",
      "False\n",
      "False\n",
      "False\n",
      "False\n",
      "True\n",
      "False\n",
      "False\n",
      "False\n",
      "False\n",
      "False\n",
      "True\n",
      "True\n",
      "False\n",
      "False\n",
      "False\n",
      "False\n",
      "True\n",
      "True\n",
      "False\n",
      "False\n",
      "True\n",
      "False\n",
      "False\n",
      "True\n",
      "True\n",
      "False\n",
      "False\n",
      "True\n",
      "False\n",
      "False\n",
      "False\n",
      "False\n",
      "True\n",
      "False\n",
      "False\n",
      "True\n",
      "False\n",
      "True\n",
      "False\n",
      "False\n",
      "True\n",
      "True\n",
      "True\n",
      "True\n",
      "True\n",
      "False\n",
      "False\n",
      "True\n",
      "True\n",
      "True\n",
      "True\n",
      "False\n",
      "False\n",
      "False\n",
      "True\n",
      "False\n",
      "True\n",
      "True\n",
      "True\n",
      "False\n",
      "True\n",
      "False\n",
      "False\n",
      "True\n",
      "False\n",
      "False\n",
      "False\n",
      "False\n"
     ]
    }
   ],
   "source": [
    "# plt.plot([v.p * 1 for v in ev.data])\n",
    "for i in range(100):\n",
    "    print ev.data[i].p"
   ]
  },
  {
   "cell_type": "code",
   "execution_count": 9,
   "metadata": {},
   "outputs": [
    {
     "data": {
      "text/plain": [
       "2704"
      ]
     },
     "execution_count": 9,
     "metadata": {},
     "output_type": "execute_result"
    }
   ],
   "source": [
    "len([1 for v in ev.data if not v.p])"
   ]
  },
  {
   "cell_type": "markdown",
   "metadata": {},
   "source": [
    "## Plot time context $\\mathcal{T}_i(\\mathbf{u},p)$ and time surface $\\mathcal{S}_i(\\mathbf{u},p)$\n",
    "\n",
    "The time context is a 3D (2 spatial axes and 1 time) surface that indicates the most recent activations/events for each pixel at a given moment in time $i$ , within a small spatial region $\\mathbf{u}$:\n",
    "\n",
    "$$\\mathcal{T}_i(\\mathbf{u},p) = max_{j <= i}\\{t_j | \\mathbf{x}_j = (\\mathbf{x}_i + \\mathbf{u}), p_j = p\\}$$\n",
    "\n",
    "Note that we choose to either plot ON ($p_j = 1$) or OFF ($p_j = -1$) events, not both at the same time, just to aid visualisation.\n",
    "\n",
    "This time-context operation is essentially a form of spatio-temporal max-pooling.\n",
    "\n",
    "\n",
    "The time surface is the time context with an exponential decay applied:\n",
    "\n",
    "$$\\mathcal{S}_i(\\mathbf{u},p) = e^{-(t_i - \\mathcal{T}_i(\\mathbf{u},p) )/\\tau} $$\n"
   ]
  },
  {
   "cell_type": "code",
   "execution_count": 6,
   "metadata": {},
   "outputs": [
    {
     "data": {
      "text/plain": [
       "Text(0.5,1,'Time surface')"
      ]
     },
     "execution_count": 6,
     "metadata": {},
     "output_type": "execute_result"
    },
    {
     "data": {
      "image/png": "[encoded data removed]",
      "text/plain": [
       "<Figure size 720x360 with 3 Axes>"
      ]
     },
     "metadata": {
      "needs_background": "light"
     },
     "output_type": "display_data"
    }
   ],
   "source": [
    "# %%timeit\n",
    "\n",
    "# plot time context\n",
    "\n",
    "feat = Feature(ev.height, ev.width, region_size=1, time_constant=10000*2)\n",
    "\n",
    "# set time to pause at\n",
    "t_pause = 70000\n",
    "\n",
    "for e in ev.data:\n",
    "    if e.ts <= t_pause:\n",
    "        feat.process_event(e)\n",
    "            \n",
    "fig, ax = plt.subplots(1, 3, figsize=(10, 5))\n",
    "ax[0].imshow(feat.latest_times_on)\n",
    "ax[1].imshow(feat.time_context_on)\n",
    "ax[2].imshow(feat.time_surface_on)\n",
    "ax[0].set_title('Latest times')\n",
    "ax[1].set_title('Time context')\n",
    "ax[2].set_title('Time surface')"
   ]
  },
  {
   "cell_type": "markdown",
   "metadata": {},
   "source": [
    "## Initialise time surface prototypes"
   ]
  },
  {
   "cell_type": "code",
   "execution_count": 8,
   "metadata": {},
   "outputs": [
    {
     "data": {
      "image/png": "[encoded data removed]",
      "text/plain": [
       "<Figure size 1800x360 with 20 Axes>"
      ]
     },
     "metadata": {
      "needs_background": "light"
     },
     "output_type": "display_data"
    }
   ],
   "source": [
    "# Choose number of prototypes for layer 1\n",
    "N_1 = 10\n",
    "\n",
    "C_1 = [Feature(ev.height, ev.width, region_size=1, time_constant=10000*2)  for _ in range(N_1)]\n",
    "\n",
    "# initialise and plot each of the time surface prototypes\n",
    "\n",
    "fig, ax = plt.subplots(2, N_1, figsize=(25, 5))\n",
    "\n",
    "for i in range(N_1):\n",
    "    C_1[i].process_event(ev.data[i])\n",
    "\n",
    "    ax[0, i].imshow(C_1[i].time_surface_on)\n",
    "    ax[1, i].imshow(C_1[i].time_surface_off)\n",
    "    ax[0, i].set_title('Time surface {}'.format(i))\n",
    "    \n",
    "plt.show()"
   ]
  },
  {
   "cell_type": "markdown",
   "metadata": {},
   "source": [
    "## Train time surface prototypes for layer 1"
   ]
  },
  {
   "cell_type": "code",
   "execution_count": 136,
   "metadata": {},
   "outputs": [
    {
     "data": {
      "text/plain": [
       "[2, 1, 1, 1, 1, 1, 1, 1, 1, 1]"
      ]
     },
     "execution_count": 136,
     "metadata": {},
     "output_type": "execute_result"
    }
   ],
   "source": [
    "# S = Feature(ev.height, ev.width, region_size=1, time_constant=10000*2)\n",
    "# p = [1] * N_1\n",
    "\n",
    "e = ev.data[1]\n",
    "S.process_event(e)\n",
    "\n",
    "\n",
    "\n",
    "# S.time_surface_off\n",
    "\n",
    "dists = [np.linalg.norm(c_k.time_surface_off - S.time_surface_off) for c_k in C_1]\n",
    "\n",
    "dists\n",
    "\n",
    "k = np.argmin(dists)\n",
    "\n",
    "k\n",
    "\n",
    "alpha = 0.01 / (1 + p[k] / 2000.)\n",
    "\n",
    "alpha\n",
    "\n",
    "beta = np.dot(C_1[k].time_surface_off, S.time_surface_off) / (np.linalg.norm(C_1[k].time_surface_off) * np.linalg.norm(S.time_surface_off))\n",
    "\n",
    "beta\n",
    "\n",
    "C_1[k].time_surface_off += alpha * (S.time_surface_off - beta * C_1[k].time_surface_off)\n",
    "\n",
    "C_1[k].time_surface_off\n",
    "\n",
    "p[k] += 1\n",
    "\n",
    "p"
   ]
  },
  {
   "cell_type": "code",
   "execution_count": 171,
   "metadata": {},
   "outputs": [
    {
     "data": {
      "text/plain": [
       "rec.array([(21, 12,  True, 19379), (20, 20, False, 19416),\n",
       "           (12, 20,  True, 19450), (21, 19, False, 19450),\n",
       "           (21, 18, False, 19655), (19,  9,  True, 19680),\n",
       "           (11, 13, False, 19903), ( 8, 19, False, 20072),\n",
       "           ( 8, 22, False, 20093), (17, 22, False, 20098),\n",
       "           (14, 20,  True, 20116), (18, 13, False, 20143),\n",
       "           (11, 14, False, 20198), (12, 24, False, 20206),\n",
       "           (15, 19,  True, 20278), (16,  4,  True, 20314),\n",
       "           ( 7, 15,  True, 20693), (10, 23, False, 20709),\n",
       "           (13,  7,  True, 20795), (12,  8,  True, 20924)],\n",
       "          dtype=[('x', '<u2'), ('y', '<u2'), ('p', '?'), ('ts', '<u8')])"
      ]
     },
     "execution_count": 171,
     "metadata": {},
     "output_type": "execute_result"
    }
   ],
   "source": [
    "ev.data[90:110]"
   ]
  },
  {
   "cell_type": "code",
   "execution_count": 9,
   "metadata": {},
   "outputs": [
    {
     "name": "stdout",
     "output_type": "stream",
     "text": [
      "4\n",
      "((9, 14, False, 19146), [19.888186005268366, 18.091249703000905, 16.69005826690113, 14.370526362993957, 13.972092680664598, 14.471138436353641, 13.972092680664598, 13.972092680664598, 14.454904645463346, 14.452410694150084], 4, 0.009975062344139652, array([[nan, nan, nan, ..., nan, nan, nan],\n",
      "       [nan, nan, nan, ..., nan, nan, nan],\n",
      "       [nan, nan, nan, ..., nan, nan, nan],\n",
      "       ...,\n",
      "       [nan, nan, nan, ..., nan, nan, nan],\n",
      "       [nan, nan, nan, ..., nan, nan, nan],\n",
      "       [nan, nan, nan, ..., nan, nan, nan]]), [2, 2, 2, 3, 6, 13, 15, 15, 19, 21])\n"
     ]
    },
    {
     "name": "stderr",
     "output_type": "stream",
     "text": [
      "C:\\Users\\Shaun\\Miniconda3\\envs\\neuro27_env\\lib\\site-packages\\ipykernel_launcher.py:34: RuntimeWarning: invalid value encountered in divide\n"
     ]
    }
   ],
   "source": [
    "# initialise time surface\n",
    "S = Feature(ev.height, ev.width, region_size=1, time_constant=10000*2)\n",
    "\n",
    "p = [1] * N_1\n",
    "\n",
    "for e in ev.data[:88]:\n",
    "    S.process_event(e)\n",
    "    \n",
    "    if e.p:\n",
    "        # find closest cluster center (i.e. closest time surface prototype, according to euclidean distance)\n",
    "    \n",
    "        dists = [np.linalg.norm(c_k.time_surface_on - S.time_surface_on) for c_k in C_1]\n",
    "\n",
    "        k = np.argmin(dists)\n",
    "\n",
    "        # update prototype that is closest to\n",
    "\n",
    "        alpha = 0.01 / (1 + p[k] / 2000.)\n",
    "        beta = np.dot(C_1[k].time_surface_on, S.time_surface_on) / (np.linalg.norm(C_1[k].time_surface_on) * np.linalg.norm(S.time_surface_on))\n",
    "\n",
    "        C_1[k].time_surface_on += alpha * (S.time_surface_on - beta * C_1[k].time_surface_on)\n",
    "        \n",
    "        p[k] += 1\n",
    "    else:\n",
    "        # find closest cluster center (i.e. closest time surface prototype, according to euclidean distance)\n",
    "    \n",
    "        dists = [np.linalg.norm(c_k.time_surface_off - S.time_surface_off) for c_k in C_1]\n",
    "\n",
    "        k = np.argmin(dists)\n",
    "\n",
    "        # update prototype that is closest to\n",
    "\n",
    "        alpha = 0.01 / (1 + p[k] / 2000.)\n",
    "        beta = np.dot(C_1[k].time_surface_off, S.time_surface_off) / (np.linalg.norm(C_1[k].time_surface_off) * np.linalg.norm(S.time_surface_off))\n",
    "\n",
    "        C_1[k].time_surface_off += alpha * (S.time_surface_off - beta * C_1[k].time_surface_off)\n",
    "        \n",
    "        p[k] += 1\n",
    "    \n",
    "print k\n",
    "print(e, dists, k, alpha, beta, p)\n"
   ]
  },
  {
   "cell_type": "code",
   "execution_count": 193,
   "metadata": {},
   "outputs": [
    {
     "data": {
      "text/plain": [
       "4"
      ]
     },
     "execution_count": 193,
     "metadata": {},
     "output_type": "execute_result"
    }
   ],
   "source": [
    "k"
   ]
  },
  {
   "cell_type": "code",
   "execution_count": 110,
   "metadata": {},
   "outputs": [
    {
     "data": {
      "image/png": "[encoded data removed]",
      "text/plain": [
       "<Figure size 1800x360 with 20 Axes>"
      ]
     },
     "metadata": {
      "needs_background": "light"
     },
     "output_type": "display_data"
    }
   ],
   "source": [
    "fig, ax = plt.subplots(2, N_1, figsize=(25, 5))\n",
    "\n",
    "for i in range(N_1):\n",
    "    C_1[i].process_event(ev.data[i])\n",
    "\n",
    "    ax[0, i].imshow(layer_1[i].time_surface_on)\n",
    "    ax[1, i].imshow(layer_1[i].time_surface_off)\n",
    "    ax[0, i].set_title('Time surface {}'.format(i))\n",
    "    \n",
    "plt.show()"
   ]
  }
 ],
 "metadata": {
  "kernelspec": {
   "display_name": "Python 2",
   "language": "python",
   "name": "python2"
  },
  "language_info": {
   "codemirror_mode": {
    "name": "ipython",
    "version": 2
   },
   "file_extension": ".py",
   "mimetype": "text/x-python",
   "name": "python",
   "nbconvert_exporter": "python",
   "pygments_lexer": "ipython2",
   "version": "2.7.15"
  }
 },
 "nbformat": 4,
 "nbformat_minor": 2
}
